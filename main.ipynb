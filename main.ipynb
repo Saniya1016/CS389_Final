{
 "cells": [
  {
   "cell_type": "code",
   "execution_count": 1,
   "metadata": {},
   "outputs": [],
   "source": [
    "import numpy as np\n",
    "import librosa\n",
    "import IPython.display as ipd\n",
    "\n",
    "import torch\n",
    "import torch.nn as nn\n",
    "from torch.nn.utils.rnn import pad_sequence\n",
    "from torch.utils.data import Dataset, DataLoader, random_split, Subset\n",
    "import torch.nn.functional as F\n",
    "\n",
    "from torchvision.utils import make_grid  # |   Utility stuff for plotting\n",
    "import matplotlib.pyplot as plt          # |  <- I use this one a lot for plotting, seaborn is a good alternative\n",
    "from matplotlib.image import imread      # |  it reads images... (png -> usable input (like a numpy array for ex))\n",
    "import os\n",
    "import random\n",
    "from tqdm import tqdm  # | This one is a cute one for making a loading bar, I like it and we'll use it here"
   ]
  },
  {
   "cell_type": "code",
   "execution_count": 2,
   "metadata": {},
   "outputs": [],
   "source": [
    "def load_dataset(directory, batch_size, train_ratio=0.8):\n",
    "    dataset = []\n",
    "    emotion_to_number = {'NEU': 0, 'HAP': 1, 'SAD': 2, 'ANG': 3, 'DIS': 4, 'FEA': 5}\n",
    "    max_len = 0\n",
    "    \n",
    "    for filename in os.listdir(directory):\n",
    "        if filename.endswith('.wav'):\n",
    "            filepath = os.path.join(directory, filename)\n",
    "            emotion = filename.split('_')[2]\n",
    "            emotion_no = emotion_to_number[emotion]\n",
    "            emotion_label = torch.zeros(6)\n",
    "            emotion_label[emotion_no] = 1\n",
    "            audio_tensor, _ = librosa.load(filepath, sr=None)\n",
    "            max_len = max(max_len, len(audio_tensor))\n",
    "            audio_tensor = torch.tensor(audio_tensor, dtype=torch.float32)\n",
    "            dataset.append([audio_tensor, emotion_label])\n",
    "\n",
    "    dataset = [(torch.nn.functional.pad(audio_tensor, (0, max_len - audio_tensor.size(0))), label)\n",
    "               for audio_tensor, label in dataset]\n",
    "\n",
    "    # Split the dataset into training and testing sets\n",
    "    train_size = int(train_ratio * len(dataset))\n",
    "    test_size = len(dataset) - train_size\n",
    "    train_dataset, test_dataset = random_split(dataset, [train_size, test_size])\n",
    "\n",
    "    # Create DataLoader objects for training and testing sets\n",
    "    train_dataloader = DataLoader(train_dataset, batch_size=batch_size, shuffle=True)\n",
    "    test_dataloader = DataLoader(test_dataset, batch_size=batch_size, shuffle=False)\n",
    "    \n",
    "    return train_dataset, test_dataset, train_dataloader, test_dataloader\n"
   ]
  },
  {
   "cell_type": "code",
   "execution_count": 9,
   "metadata": {},
   "outputs": [
    {
     "name": "stdout",
     "output_type": "stream",
     "text": [
      "tensor([-0.0008, -0.0003, -0.0006,  ...,  0.0000,  0.0000,  0.0000])\n",
      "tensor([0., 0., 0., 0., 1., 0.])\n"
     ]
    }
   ],
   "source": [
    "crema_d_directory = \"./AudioWAV\"\n",
    "train_dataset, test_dataset, train_dataloader, test_dataloader = load_dataset(crema_d_directory, batch_size=32)\n",
    "ex_audio, ex_label = train_dataset[random.randint(0,20)]\n",
    "print(ex_audio)\n",
    "print(ex_label)"
   ]
  },
  {
   "cell_type": "code",
   "execution_count": 10,
   "metadata": {},
   "outputs": [],
   "source": [
    "\n",
    "class AudioCNN(nn.Module):\n",
    "\n",
    "    def __init__(self, input_size, num_classes):\n",
    "        super(AudioCNN, self).__init__()\n",
    "        self.input_size = input_size\n",
    "        self.conv1 = nn.Conv1d(in_channels=1, out_channels=32, kernel_size=3)\n",
    "        self.conv2 = nn.Conv1d(in_channels=32, out_channels=64, kernel_size=3)\n",
    "        \n",
    "        # Calculate the output size of the convolutional layers\n",
    "        conv_output_size = (((input_size-2)//2) - 2)//2  # Considering two max pooling layers with kernel_size=2\n",
    "        \n",
    "        self.fc1 = nn.Linear(64 * conv_output_size, 128)\n",
    "        self.fc2 = nn.Linear(128, num_classes)\n",
    "\n",
    "    def forward(self, x):\n",
    "        x = F.relu(self.conv1(x))\n",
    "        x = F.max_pool1d(x, kernel_size=2)\n",
    "        x = F.relu(self.conv2(x))\n",
    "        x = F.max_pool1d(x, kernel_size=2)\n",
    "        x = x.view(x.size(0), -1)\n",
    "        x = F.relu(self.fc1(x))\n",
    "        x = F.relu(self.fc2(x))\n",
    "        return x"
   ]
  },
  {
   "cell_type": "code",
   "execution_count": 11,
   "metadata": {},
   "outputs": [
    {
     "name": "stdout",
     "output_type": "stream",
     "text": [
      "tensor([[0.0000, 0.0388, 0.0000, 0.0000, 0.0000, 0.1050]],\n",
      "       grad_fn=<ReluBackward0>)\n",
      "tensor([0., 1., 0., 0., 0., 0.])\n",
      "tensor([0, 0, 0, 0, 0, 0])\n"
     ]
    }
   ],
   "source": [
    "\n",
    "input_size = 80080\n",
    "num_classes = 6  # 6 emotion classes\n",
    "\n",
    "ex_audio, ex_label = train_dataset[random.randint(0,len(train_dataset))]\n",
    "\n",
    "ex_audio = ex_audio.unsqueeze(0).unsqueeze(0)\n",
    "\n",
    "test_model = AudioCNN(input_size=input_size, num_classes=6)\n",
    "test_output = test_model(ex_audio)\n",
    "\n",
    "print(test_output)\n",
    "print(ex_label)\n",
    "_,predicted = torch.max(test_output,0)\n",
    "print(predicted)"
   ]
  },
  {
   "cell_type": "code",
   "execution_count": 26,
   "metadata": {},
   "outputs": [
    {
     "name": "stdout",
     "output_type": "stream",
     "text": [
      "BEFORE GRADIENT STEP:\n",
      "prediction: tensor([[0.0121, 0.0000, 0.0937, 0.0000, 0.0454, 0.0000]],\n",
      "       grad_fn=<ReluBackward0>)\n",
      "label: tensor([0., 1., 0., 0., 0., 0.])\n",
      "loss tensor(1.8176, grad_fn=<NllLossBackward0>)\n",
      "\n",
      "AFTER GRADIENT STEP:\n",
      "prediction: tensor([[0.0078, 0.0000, 0.0871, 0.0000, 0.0413, 0.0000]],\n",
      "       grad_fn=<ReluBackward0>)\n",
      "label: tensor([1])\n",
      "loss 1.8149813413619995\n",
      "\n",
      "Difference in loss: tensor(0.0026, grad_fn=<SubBackward0>)\n",
      "This should be some positive number to say we reduced loss\n"
     ]
    }
   ],
   "source": [
    "## Fill in the loss_function and optimizer below and run this cell to see if they are valid!\n",
    "\n",
    "model = AudioCNN(input_size=input_size, num_classes=6)\n",
    "\n",
    "loss_function = nn.CrossEntropyLoss()                      ## You should use CrossEntropyLoss, use the API to decide how to define this \n",
    "optimizer = torch.optim.SGD(model.parameters(), lr=1e-5)      ## You can use SGD for this, which is defined in torch.optim -- look up some API stuff\n",
    "\n",
    "#############################################\n",
    "\n",
    "ex_audio, ex_label = train_dataset[random.randint(0,len(train_dataset))]\n",
    "\n",
    "ex_audio = ex_audio.unsqueeze(0).unsqueeze(0)\n",
    "\n",
    "\n",
    "\n",
    "# This checks that your model, loss and optimizer are valid -- checkout what they print!\n",
    "print(\"BEFORE GRADIENT STEP:\")\n",
    "ex_pred = model(ex_audio) \n",
    "print(\"prediction:\",ex_pred)\n",
    "print(\"label:\",ex_label)\n",
    "\n",
    "\n",
    "optimizer.zero_grad() # Sets the gradient to 0 so that gradients don't stack together\n",
    "\n",
    "ex_label = ex_label.argmax().unsqueeze(0)\n",
    "\n",
    "ex_loss1 = loss_function(ex_pred, ex_label)\n",
    "print(\"loss\",ex_loss1)\n",
    "\n",
    "ex_loss1.backward() # This gets the gradient of the loss function w.r.t all of your model's params\n",
    "\n",
    "print()\n",
    "print(\"AFTER GRADIENT STEP:\")\n",
    "optimizer.step() # This takes the step to train\n",
    "\n",
    "ex_pred = model(ex_audio)\n",
    "print(\"prediction:\",ex_pred)\n",
    "print(\"label:\",ex_label)\n",
    "\n",
    "ex_loss2 = loss_function(ex_pred, ex_label)\n",
    "print(\"loss\",ex_loss2.item())\n",
    "\n",
    "print()\n",
    "print(\"Difference in loss:\", (ex_loss1 - ex_loss2))\n",
    "print(\"This should be some positive number to say we reduced loss\")"
   ]
  },
  {
   "cell_type": "code",
   "execution_count": 27,
   "metadata": {},
   "outputs": [],
   "source": [
    "# training function here\n",
    "\n",
    "def training(model, loss_function, optimizer, train_dataloader, n_epochs, update_interval):\n",
    "    \n",
    "    losses = []\n",
    "\n",
    "    for n in range(n_epochs):\n",
    "        for i, (audio, label) in enumerate(tqdm(iter(train_dataloader))):\n",
    "\n",
    "            # TODO Complete the training loop using the instructions above\n",
    "            # Hint: the above code essentially does one training step\n",
    "\n",
    "            ##############################################################\n",
    "\n",
    "            optimizer.zero_grad()\n",
    "            audio = audio.unsqueeze(1)\n",
    "            pred = model(audio)\n",
    "            loss = loss_function(pred, label)\n",
    "            loss.backward()\n",
    "            optimizer.step()\n",
    "\n",
    "            ##############################################################\n",
    "        \n",
    "            if i % update_interval == 0:\n",
    "                losses.append(round(loss.item(), 2)) # This will append your losses for plotting -- please use \"loss\" as the name for your loss\n",
    "        \n",
    "    return model, losses"
   ]
  },
  {
   "cell_type": "code",
   "execution_count": 29,
   "metadata": {},
   "outputs": [
    {
     "name": "stderr",
     "output_type": "stream",
     "text": [
      "100%|██████████| 187/187 [10:24<00:00,  3.34s/it]\n"
     ]
    },
    {
     "name": "stdout",
     "output_type": "stream",
     "text": [
      "avg loss: 1.790526315789473\n"
     ]
    },
    {
     "data": {
      "image/png": "[encoded data removed]",
      "text/plain": [
       "<Figure size 432x288 with 1 Axes>"
      ]
     },
     "metadata": {
      "needs_background": "light"
     },
     "output_type": "display_data"
    }
   ],
   "source": [
    "# Plug in your model, loss function, and optimizer \n",
    "# Try out different hyperparameters and different models to see how they perform\n",
    "#train and tune\n",
    "\n",
    "lr = 1e-4               # The size of the step taken when doing gradient descent\n",
    "batch_size = 128       # The number of images being trained on at once\n",
    "update_interval = 10   # The number of batches trained on before recording loss\n",
    "n_epochs = 1            # The number of times we train through the entire dataset\n",
    "\n",
    "input_size = 80080 #no change\n",
    "num_classes = 6  # 6 emotion classes - no change\n",
    "\n",
    "train_dataset, test_dataset, train_dataloader, test_dataloader = load_dataset(crema_d_directory, batch_size=32)\n",
    "\n",
    "model = AudioCNN(input_size=input_size, num_classes=num_classes)\n",
    "loss_function = nn.CrossEntropyLoss()\n",
    "optimizer = torch.optim.SGD(model.parameters(), lr=lr)\n",
    "\n",
    "trained_model, losses = training(model, loss_function, optimizer, train_dataloader, n_epochs=n_epochs, update_interval=update_interval)\n",
    " \n",
    "print(\"avg loss:\", sum(losses)/len(losses))\n",
    "\n",
    "plt.plot(np.arange(len(losses)) * batch_size * update_interval, losses)\n",
    "plt.title(\"training curve\")\n",
    "plt.xlabel(\"number of images trained on\")\n",
    "plt.ylabel(\"loss\")\n",
    "plt.show()"
   ]
  },
  {
   "cell_type": "code",
   "execution_count": null,
   "metadata": {},
   "outputs": [],
   "source": []
  }
 ],
 "metadata": {
  "kernelspec": {
   "display_name": "Python 3 (ipykernel)",
   "language": "python",
   "name": "python3"
  },
  "language_info": {
   "codemirror_mode": {
    "name": "ipython",
    "version": 3
   },
   "file_extension": ".py",
   "mimetype": "text/x-python",
   "name": "python",
   "nbconvert_exporter": "python",
   "pygments_lexer": "ipython3",
   "version": "3.7.6"
  }
 },
 "nbformat": 4,
 "nbformat_minor": 2
}
